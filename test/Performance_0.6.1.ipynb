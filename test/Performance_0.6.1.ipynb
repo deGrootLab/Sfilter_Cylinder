{
 "cells": [
  {
   "cell_type": "markdown",
   "id": "4f3a3c92-d420-449c-8f93-2fcc0eb6cf3e",
   "metadata": {},
   "source": [
    "A new module, Sfilter.kinetics, was introduced in version 0.6.1 to replace the Sfilter.MSM.\n",
    "There are several reasons for this rewrite:  \n",
    "A. We acknowledge that the permeation mechanism is non-Markovian.  \n",
    "B. The old version used too much memory, and in this version, performance was taken into consideration from the beginning.  "
   ]
  },
  {
   "cell_type": "code",
   "execution_count": 1,
   "id": "b1b1ab93-093d-47aa-a8b5-fcf0f9a289df",
   "metadata": {},
   "outputs": [],
   "source": [
    "import numpy as np\n",
    "import matplotlib.pyplot as plt\n",
    "import Sfilter\n",
    "from pathlib import Path\n",
    "import sys\n",
    "from pympler.asizeof import asizeof"
   ]
  },
  {
   "cell_type": "code",
   "execution_count": 2,
   "id": "fd55274b-4d5b-4fa4-b3ea-71689204f1b7",
   "metadata": {},
   "outputs": [],
   "source": [
    "base = Path(\"../\")\n",
    "f_list = [base/f\"{i:02d}/analysis/08-02-1.8A/k_cylinder.log\" for i in range(10)]"
   ]
  },
  {
   "cell_type": "code",
   "execution_count": 3,
   "id": "1fe051a6-9c33-475f-829c-61390a46f9fa",
   "metadata": {},
   "outputs": [
    {
     "name": "stdout",
     "output_type": "stream",
     "text": [
      "CPU times: user 3min 15s, sys: 3.55 s, total: 3min 18s\n",
      "Wall time: 3min 21s\n"
     ]
    }
   ],
   "source": [
    "%%time\n",
    "k_model = Sfilter.kinetics.Sf_model(f_list, traj_dtype=np.int64)\n",
    "msm = Sfilter.MSM.SF_msm(f_list)\n",
    "msm.calc_state_array()\n"
   ]
  },
  {
   "cell_type": "markdown",
   "id": "f34c9638-ea0a-492e-8f2c-57316a951410",
   "metadata": {},
   "source": [
    "# np.int64"
   ]
  },
  {
   "cell_type": "code",
   "execution_count": null,
   "id": "011d2c74-3f64-4d0f-89a0-a7f84cb21c01",
   "metadata": {},
   "outputs": [],
   "source": [
    "%%time\n",
    "k_model = Sfilter.kinetics.Sf_model(f_list, traj_dtype=np.int64)\n",
    "%%time\n",
    "_p = k_model.calc_passage_time()\n",
    "print(\"Size of the new model       (MB):\", asizeof(k_model) / 1e6)"
   ]
  },
  {
   "cell_type": "code",
   "execution_count": 5,
   "id": "2fdf16d6-0e05-4341-b233-5b73f6c8f6a0",
   "metadata": {},
   "outputs": [
    {
     "name": "stdout",
     "output_type": "stream",
     "text": [
      "CPU times: user 47 s, sys: 36 ms, total: 47.1 s\n",
      "Wall time: 47.1 s\n"
     ]
    }
   ],
   "source": [
    "%%time\n",
    "_p = k_model.calc_passage_time()"
   ]
  },
  {
   "cell_type": "markdown",
   "id": "479c07d9-fbb6-4656-8766-6c382bbc6a63",
   "metadata": {},
   "source": [
    "# np.int32"
   ]
  },
  {
   "cell_type": "code",
   "execution_count": 7,
   "id": "38f75146-4e5d-4659-b72f-ea07e12f1d28",
   "metadata": {},
   "outputs": [
    {
     "name": "stdout",
     "output_type": "stream",
     "text": [
      "CPU times: user 2min 51s, sys: 1 s, total: 2min 52s\n",
      "Wall time: 2min 52s\n"
     ]
    }
   ],
   "source": [
    "%%time\n",
    "k_model = Sfilter.kinetics.Sf_model(f_list, traj_dtype=np.int32)"
   ]
  },
  {
   "cell_type": "code",
   "execution_count": 8,
   "id": "70b6bb84-2c8a-4b0a-81c7-f5d39ad10ba8",
   "metadata": {},
   "outputs": [
    {
     "name": "stdout",
     "output_type": "stream",
     "text": [
      "CPU times: user 1min 14s, sys: 51.9 ms, total: 1min 14s\n",
      "Wall time: 1min 14s\n"
     ]
    }
   ],
   "source": [
    "%%time\n",
    "_p = k_model.calc_passage_time()"
   ]
  },
  {
   "cell_type": "markdown",
   "id": "3ecfb472-162b-45b0-9c11-b18ad1c6fafb",
   "metadata": {},
   "source": [
    "# np.int8"
   ]
  },
  {
   "cell_type": "code",
   "execution_count": 12,
   "id": "700f3051-baed-45cc-8137-b1b72c1d4ea2",
   "metadata": {},
   "outputs": [
    {
     "name": "stdout",
     "output_type": "stream",
     "text": [
      "CPU times: user 2min 48s, sys: 1.04 s, total: 2min 49s\n",
      "Wall time: 2min 49s\n"
     ]
    }
   ],
   "source": [
    "%%time\n",
    "k_model = Sfilter.kinetics.Sf_model(f_list)"
   ]
  },
  {
   "cell_type": "code",
   "execution_count": 13,
   "id": "e00a91b6-ba3d-4070-84ec-7a94aecb3065",
   "metadata": {},
   "outputs": [
    {
     "name": "stdout",
     "output_type": "stream",
     "text": [
      "CPU times: user 1min 13s, sys: 28.1 ms, total: 1min 13s\n",
      "Wall time: 1min 13s\n"
     ]
    }
   ],
   "source": [
    "%%time\n",
    "_p = k_model.calc_passage_time()"
   ]
  },
  {
   "cell_type": "code",
   "execution_count": 14,
   "id": "09562366-c6ec-495d-807f-7bc035e59bce",
   "metadata": {},
   "outputs": [
    {
     "name": "stdout",
     "output_type": "stream",
     "text": [
      "Size of the old model       (MB): 360.02468\n",
      "Size of the old traj string (MB): 320.001384\n",
      "Size of the old traj int    (MB): 40.0014\n",
      "Size of the new model       (MB): 118.86032\n",
      "Size of the new traj raw    (MB): 5.0014\n",
      "Size of the new traj lumped (MB): 5.0014\n"
     ]
    }
   ],
   "source": [
    "print(\"Size of the old model       (MB):\", asizeof(msm) / 1e6)\n",
    "print(\"Size of the old traj string (MB):\", asizeof(msm.state_str) / 1e6)\n",
    "print(\"Size of the old traj int    (MB):\", asizeof(msm.state_array) / 1e6)\n",
    "print(\"Size of the new model       (MB):\", asizeof(k_model) / 1e6)\n",
    "print(\"Size of the new traj raw    (MB):\", asizeof(k_model.traj_raw) / 1e6)\n",
    "print(\"Size of the new traj lumped (MB):\", asizeof(k_model.traj_node) / 1e6)\n"
   ]
  },
  {
   "cell_type": "code",
   "execution_count": 15,
   "id": "8aa2dbe7-79bb-4e46-bf2a-1c090dfaeb39",
   "metadata": {},
   "outputs": [
    {
     "name": "stdout",
     "output_type": "stream",
     "text": [
      "Size of the passage_time_point_every_traj  (MB): 53.701928\n",
      "Size of the passage_time_length_every_traj (MB): 53.701928\n"
     ]
    }
   ],
   "source": [
    "print(\"Size of the passage_time_point_every_traj  (MB):\", asizeof(k_model.passage_time_point_every_traj) / 1e6)\n",
    "print(\"Size of the passage_time_length_every_traj (MB):\", asizeof(k_model.passage_time_length_every_traj) / 1e6)"
   ]
  },
  {
   "cell_type": "code",
   "execution_count": 17,
   "id": "9a03f487-c79d-477d-ae64-5fd600cc0bf3",
   "metadata": {},
   "outputs": [
    {
     "name": "stdout",
     "output_type": "stream",
     "text": [
      "0.14719231884751227 0.28788068984546805\n",
      "[1, 4, 3, 2, 2, 5, 4, 2, 1, 1]\n"
     ]
    }
   ],
   "source": [
    "mfpt_01, passage_list = msm.get_mfpt_rate_pair(0,1)\n",
    "mfpt_10, passage_list = msm.get_mfpt_rate_pair(1,0)\n",
    "\n",
    "print(mfpt_01, mfpt_10)\n",
    "print(passage_list[:10])"
   ]
  },
  {
   "cell_type": "code",
   "execution_count": 18,
   "id": "6f559a5f-1b22-43f8-8453-b012d98fcc23",
   "metadata": {},
   "outputs": [
    {
     "name": "stdout",
     "output_type": "stream",
     "text": [
      "0.14719231884751227 0.28788068984546805\n",
      "[1 4 3 2 2 5 4 2 1 1]\n"
     ]
    }
   ],
   "source": [
    "mfpt_m, mfpt_every_traj = k_model.get_mfpt()\n",
    "print(1/mfpt_m[0,1], 1/mfpt_m[1,0])\n",
    "print(k_model.passage_time_length_every_traj[0][1][0][:10])"
   ]
  },
  {
   "cell_type": "code",
   "execution_count": null,
   "id": "d0fe8589-bb5f-440f-85b5-a1d822c67d7a",
   "metadata": {},
   "outputs": [],
   "source": []
  }
 ],
 "metadata": {
  "kernelspec": {
   "display_name": "py3.11_test",
   "language": "python",
   "name": "py3.11_test"
  },
  "language_info": {
   "codemirror_mode": {
    "name": "ipython",
    "version": 3
   },
   "file_extension": ".py",
   "mimetype": "text/x-python",
   "name": "python",
   "nbconvert_exporter": "python",
   "pygments_lexer": "ipython3",
   "version": "3.11.4"
  }
 },
 "nbformat": 4,
 "nbformat_minor": 5
}
