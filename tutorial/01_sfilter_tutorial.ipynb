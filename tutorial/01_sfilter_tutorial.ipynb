{
 "cells": [
  {
   "cell_type": "code",
   "execution_count": 1,
   "id": "91c6af8e-8f62-4272-a189-0e800dcb45d1",
   "metadata": {},
   "outputs": [
    {
     "name": "stderr",
     "output_type": "stream",
     "text": [
      "/home/chui/Software-2023-04-11/miniconda3/envs/py3.11_test/lib/python3.11/site-packages/tqdm/auto.py:21: TqdmWarning: IProgress not found. Please update jupyter and ipywidgets. See https://ipywidgets.readthedocs.io/en/stable/user_install.html\n",
      "  from .autonotebook import tqdm as notebook_tqdm\n"
     ]
    }
   ],
   "source": [
    "\n",
    "from Sfilter import sfilter\n",
    "import MDAnalysis as mda\n",
    "import pandas as pd\n",
    "# Sfilter.sfilter is the low-level API for determining the state of the selectivity filter"
   ]
  },
  {
   "cell_type": "code",
   "execution_count": 2,
   "id": "fa1b5228-eaef-41ee-8e0e-ebfe712d6a34",
   "metadata": {},
   "outputs": [],
   "source": [
    "top = \"../test/01-NaK2K/1-Charmm/em.pdb\"\n",
    "xtc = \"../test/01-NaK2K/1-Charmm/with_water/fix_atom_c_100ps.xtc\"\n",
    "u = mda.Universe(top, xtc)\n",
    "sf = sfilter(u)"
   ]
  },
  {
   "cell_type": "markdown",
   "id": "6572be7d-8da2-4d2a-9dd8-b650876d120e",
   "metadata": {},
   "source": [
    "## Find SF according to the sequence"
   ]
  },
  {
   "cell_type": "code",
   "execution_count": 3,
   "id": "2cb8c426-389d-4225-bad3-952375fdb05e",
   "metadata": {},
   "outputs": [
    {
     "data": {
      "text/plain": [
       "(<AtomGroup with 4 atoms>,\n",
       " <AtomGroup with 4 atoms>,\n",
       " <AtomGroup with 4 atoms>,\n",
       " <AtomGroup with 4 atoms>,\n",
       " <AtomGroup with 4 atoms>,\n",
       " <AtomGroup with 4 atoms>)"
      ]
     },
     "execution_count": 3,
     "metadata": {},
     "output_type": "execute_result"
    }
   ],
   "source": [
    "sf.detect_SF_sequence(SF_seq1=\"THR VAL GLY TYR GLY\".split())  # provide SF_seq2 if analysising TRAAK or Trek2\n",
    "sf.sf_oxygen  # 6 mda selection. They are the oxygen of the selectivity filter. They ordered from top to bottom"
   ]
  },
  {
   "cell_type": "code",
   "execution_count": 4,
   "id": "f2be1408-a546-4bc9-8159-7ee9ff8add49",
   "metadata": {},
   "outputs": [
    {
     "name": "stdout",
     "output_type": "stream",
     "text": [
      "<Atom 754: O of type O of resname GLY, resid 67 and segid A and altLoc >\n",
      "<Atom 747: O of type O of resname TYR, resid 66 and segid A and altLoc >\n",
      "<Atom 726: O of type O of resname GLY, resid 65 and segid A and altLoc >\n",
      "<Atom 719: O of type O of resname VAL, resid 64 and segid A and altLoc >\n",
      "<Atom 703: O of type O of resname THR, resid 63 and segid A and altLoc >\n",
      "<Atom 696: OG1 of type O of resname THR, resid 63 and segid A and altLoc >\n"
     ]
    }
   ],
   "source": [
    "for sf_oxygen in sf.sf_oxygen:\n",
    "    print(sf_oxygen[0])  # Oxygen on chain A"
   ]
  },
  {
   "cell_type": "code",
   "execution_count": 5,
   "id": "8c5158f1-1960-4fe1-a0e2-22ca65259ac1",
   "metadata": {},
   "outputs": [
    {
     "name": "stdout",
     "output_type": "stream",
     "text": [
      "<Atom 2244: O of type O of resname GLY, resid 67 and segid B and altLoc >\n",
      "<Atom 2237: O of type O of resname TYR, resid 66 and segid B and altLoc >\n",
      "<Atom 2216: O of type O of resname GLY, resid 65 and segid B and altLoc >\n",
      "<Atom 2209: O of type O of resname VAL, resid 64 and segid B and altLoc >\n",
      "<Atom 2193: O of type O of resname THR, resid 63 and segid B and altLoc >\n",
      "<Atom 2186: OG1 of type O of resname THR, resid 63 and segid B and altLoc >\n"
     ]
    }
   ],
   "source": [
    "for sf_oxygen in sf.sf_oxygen:\n",
    "    print(sf_oxygen[1])  # Oxygen on chain B"
   ]
  },
  {
   "cell_type": "markdown",
   "id": "c899aa5f-8961-4a64-b832-52905fc6490b",
   "metadata": {},
   "source": [
    "# What site is each K+ ion in ?\n",
    "![SF_definition](./SF_definition.jpg)"
   ]
  },
  {
   "cell_type": "code",
   "execution_count": 6,
   "id": "c3ab7d3e-20fa-4182-bdbd-74c89d788994",
   "metadata": {},
   "outputs": [
    {
     "data": {
      "text/plain": [
       "<AtomGroup with 160 atoms>"
      ]
     },
     "execution_count": 6,
     "metadata": {},
     "output_type": "execute_result"
    }
   ],
   "source": [
    "POT = u.select_atoms(\"name POT\")\n",
    "POT"
   ]
  },
  {
   "cell_type": "code",
   "execution_count": 7,
   "id": "f2239eb6-59cf-41e9-a5fc-a01b1e688c2f",
   "metadata": {},
   "outputs": [
    {
     "name": "stdout",
     "output_type": "stream",
     "text": [
      "(160,)\n"
     ]
    }
   ],
   "source": [
    "s5_z_cutoff = 3    # A, z cutoff of the SCav\n",
    "r_cutoff = 3.5     # A, the radius of the SF cylinder (S1, S2, S3, S4)\n",
    "s0_r_cutoff = 4.0  # A, the radius of the S0\n",
    "\n",
    "# label each POT atom with the binding site integer\n",
    "POT_array = sf.state_detect(POT, s5_z_cutoff, r_cutoff, s0_r_cutoff)\n",
    "print(POT_array.shape)"
   ]
  },
  {
   "cell_type": "markdown",
   "id": "a25fc41c-99d0-406e-a970-b5c9e601078d",
   "metadata": {},
   "source": [
    "# Which atom does each binding site have?"
   ]
  },
  {
   "cell_type": "code",
   "execution_count": 8,
   "id": "ffc29845-2c6a-4abf-b194-51004d705011",
   "metadata": {},
   "outputs": [
    {
     "data": {
      "text/plain": [
       "[array([], dtype=int64),\n",
       " array([5963]),\n",
       " array([5962]),\n",
       " array([5961]),\n",
       " array([5960]),\n",
       " array([], dtype=int64)]"
      ]
     },
     "execution_count": 8,
     "metadata": {},
     "output_type": "execute_result"
    }
   ],
   "source": [
    "sf.state_2_list(POT_array, POT)  # state list with the index of atoms in every binding site"
   ]
  },
  {
   "cell_type": "markdown",
   "id": "9f7739bf-125a-4c56-bd0b-caab9c279cb6",
   "metadata": {},
   "source": [
    "# Loop over trajectory\n",
    "POT is a referrence to the current frame, there is no need to redo the selection. The coordinate inside the POT will be automaticaly updated while looping over the trajectory"
   ]
  },
  {
   "cell_type": "code",
   "execution_count": 9,
   "id": "b2a8e32b-3cbd-457b-b9d3-4f58479f4226",
   "metadata": {},
   "outputs": [],
   "source": [
    "site_occu = []\n",
    "for ts in u.trajectory:\n",
    "    POT_array = sf.state_detect(POT, s5_z_cutoff, r_cutoff, s0_r_cutoff)    \n",
    "    site_occu.append(sf.state_2_list(POT_array, POT))\n"
   ]
  },
  {
   "cell_type": "code",
   "execution_count": 10,
   "id": "abe747f1-2b58-452d-9ddf-ec5de396eb70",
   "metadata": {},
   "outputs": [
    {
     "data": {
      "text/html": [
       "<div>\n",
       "<style scoped>\n",
       "    .dataframe tbody tr th:only-of-type {\n",
       "        vertical-align: middle;\n",
       "    }\n",
       "\n",
       "    .dataframe tbody tr th {\n",
       "        vertical-align: top;\n",
       "    }\n",
       "\n",
       "    .dataframe thead th {\n",
       "        text-align: right;\n",
       "    }\n",
       "</style>\n",
       "<table border=\"1\" class=\"dataframe\">\n",
       "  <thead>\n",
       "    <tr style=\"text-align: right;\">\n",
       "      <th></th>\n",
       "      <th>S0</th>\n",
       "      <th>S1</th>\n",
       "      <th>S2</th>\n",
       "      <th>S3</th>\n",
       "      <th>S4</th>\n",
       "      <th>SCav</th>\n",
       "    </tr>\n",
       "  </thead>\n",
       "  <tbody>\n",
       "    <tr>\n",
       "      <th>0</th>\n",
       "      <td>[]</td>\n",
       "      <td>[5963]</td>\n",
       "      <td>[5962]</td>\n",
       "      <td>[5961]</td>\n",
       "      <td>[5960]</td>\n",
       "      <td>[]</td>\n",
       "    </tr>\n",
       "    <tr>\n",
       "      <th>1</th>\n",
       "      <td>[5963]</td>\n",
       "      <td>[5962]</td>\n",
       "      <td>[]</td>\n",
       "      <td>[5961]</td>\n",
       "      <td>[5960]</td>\n",
       "      <td>[]</td>\n",
       "    </tr>\n",
       "    <tr>\n",
       "      <th>2</th>\n",
       "      <td>[5963]</td>\n",
       "      <td>[5962]</td>\n",
       "      <td>[]</td>\n",
       "      <td>[5961]</td>\n",
       "      <td>[5960]</td>\n",
       "      <td>[]</td>\n",
       "    </tr>\n",
       "    <tr>\n",
       "      <th>3</th>\n",
       "      <td>[]</td>\n",
       "      <td>[5963]</td>\n",
       "      <td>[5962]</td>\n",
       "      <td>[5961]</td>\n",
       "      <td>[5960]</td>\n",
       "      <td>[]</td>\n",
       "    </tr>\n",
       "    <tr>\n",
       "      <th>4</th>\n",
       "      <td>[]</td>\n",
       "      <td>[5963]</td>\n",
       "      <td>[5962]</td>\n",
       "      <td>[5961]</td>\n",
       "      <td>[5960]</td>\n",
       "      <td>[]</td>\n",
       "    </tr>\n",
       "    <tr>\n",
       "      <th>5</th>\n",
       "      <td>[]</td>\n",
       "      <td>[5963]</td>\n",
       "      <td>[5962]</td>\n",
       "      <td>[5961]</td>\n",
       "      <td>[5960]</td>\n",
       "      <td>[]</td>\n",
       "    </tr>\n",
       "    <tr>\n",
       "      <th>6</th>\n",
       "      <td>[5963]</td>\n",
       "      <td>[5962]</td>\n",
       "      <td>[]</td>\n",
       "      <td>[5961]</td>\n",
       "      <td>[5960]</td>\n",
       "      <td>[]</td>\n",
       "    </tr>\n",
       "    <tr>\n",
       "      <th>7</th>\n",
       "      <td>[]</td>\n",
       "      <td>[5962]</td>\n",
       "      <td>[5961]</td>\n",
       "      <td>[]</td>\n",
       "      <td>[5960]</td>\n",
       "      <td>[]</td>\n",
       "    </tr>\n",
       "    <tr>\n",
       "      <th>8</th>\n",
       "      <td>[]</td>\n",
       "      <td>[5962]</td>\n",
       "      <td>[]</td>\n",
       "      <td>[5961]</td>\n",
       "      <td>[5960]</td>\n",
       "      <td>[]</td>\n",
       "    </tr>\n",
       "    <tr>\n",
       "      <th>9</th>\n",
       "      <td>[]</td>\n",
       "      <td>[5962]</td>\n",
       "      <td>[]</td>\n",
       "      <td>[5961]</td>\n",
       "      <td>[5960]</td>\n",
       "      <td>[]</td>\n",
       "    </tr>\n",
       "    <tr>\n",
       "      <th>10</th>\n",
       "      <td>[6072]</td>\n",
       "      <td>[]</td>\n",
       "      <td>[5962]</td>\n",
       "      <td>[5961]</td>\n",
       "      <td>[5960]</td>\n",
       "      <td>[]</td>\n",
       "    </tr>\n",
       "  </tbody>\n",
       "</table>\n",
       "</div>"
      ],
      "text/plain": [
       "        S0      S1      S2      S3      S4 SCav\n",
       "0       []  [5963]  [5962]  [5961]  [5960]   []\n",
       "1   [5963]  [5962]      []  [5961]  [5960]   []\n",
       "2   [5963]  [5962]      []  [5961]  [5960]   []\n",
       "3       []  [5963]  [5962]  [5961]  [5960]   []\n",
       "4       []  [5963]  [5962]  [5961]  [5960]   []\n",
       "5       []  [5963]  [5962]  [5961]  [5960]   []\n",
       "6   [5963]  [5962]      []  [5961]  [5960]   []\n",
       "7       []  [5962]  [5961]      []  [5960]   []\n",
       "8       []  [5962]      []  [5961]  [5960]   []\n",
       "9       []  [5962]      []  [5961]  [5960]   []\n",
       "10  [6072]      []  [5962]  [5961]  [5960]   []"
      ]
     },
     "execution_count": 10,
     "metadata": {},
     "output_type": "execute_result"
    }
   ],
   "source": [
    "pd.DataFrame(site_occu, columns = [\"S0\", \"S1\", \"S2\", \"S3\", \"S4\", \"SCav\"])"
   ]
  },
  {
   "cell_type": "code",
   "execution_count": 11,
   "id": "4898aaa3-926a-4c15-9c4f-29acd0a3425a",
   "metadata": {},
   "outputs": [],
   "source": [
    "# Do the same with water\n",
    "wat = u.select_atoms(\"resname SOL\")\n",
    "site_occu_wat = []\n",
    "for ts in u.trajectory:\n",
    "    wat_array = sf.state_detect(wat, s5_z_cutoff, r_cutoff, s0_r_cutoff)    \n",
    "    site_occu_wat.append(sf.state_2_list(wat_array, wat))\n"
   ]
  },
  {
   "cell_type": "code",
   "execution_count": 12,
   "id": "421c3e83-05f9-4b31-84c9-be3950713483",
   "metadata": {},
   "outputs": [
    {
     "data": {
      "text/html": [
       "<div>\n",
       "<style scoped>\n",
       "    .dataframe tbody tr th:only-of-type {\n",
       "        vertical-align: middle;\n",
       "    }\n",
       "\n",
       "    .dataframe tbody tr th {\n",
       "        vertical-align: top;\n",
       "    }\n",
       "\n",
       "    .dataframe thead th {\n",
       "        text-align: right;\n",
       "    }\n",
       "</style>\n",
       "<table border=\"1\" class=\"dataframe\">\n",
       "  <thead>\n",
       "    <tr style=\"text-align: right;\">\n",
       "      <th></th>\n",
       "      <th>S0</th>\n",
       "      <th>S1</th>\n",
       "      <th>S2</th>\n",
       "      <th>S3</th>\n",
       "      <th>S4</th>\n",
       "      <th>SCav</th>\n",
       "    </tr>\n",
       "  </thead>\n",
       "  <tbody>\n",
       "    <tr>\n",
       "      <th>0</th>\n",
       "      <td>[56425, 60299, 60300, 60301]</td>\n",
       "      <td>[]</td>\n",
       "      <td>[]</td>\n",
       "      <td>[]</td>\n",
       "      <td>[]</td>\n",
       "      <td>[31255, 32579, 32580, 32581, 40145, 40146, 401...</td>\n",
       "    </tr>\n",
       "    <tr>\n",
       "      <th>1</th>\n",
       "      <td>[]</td>\n",
       "      <td>[]</td>\n",
       "      <td>[]</td>\n",
       "      <td>[]</td>\n",
       "      <td>[]</td>\n",
       "      <td>[36476, 36477, 39977, 39978, 39979, 41862, 522...</td>\n",
       "    </tr>\n",
       "    <tr>\n",
       "      <th>2</th>\n",
       "      <td>[]</td>\n",
       "      <td>[]</td>\n",
       "      <td>[]</td>\n",
       "      <td>[]</td>\n",
       "      <td>[]</td>\n",
       "      <td>[36476, 36477, 36478, 37471, 41862, 47115, 490...</td>\n",
       "    </tr>\n",
       "    <tr>\n",
       "      <th>3</th>\n",
       "      <td>[35385, 35386, 48137, 48138]</td>\n",
       "      <td>[]</td>\n",
       "      <td>[]</td>\n",
       "      <td>[]</td>\n",
       "      <td>[]</td>\n",
       "      <td>[31295, 31296, 31297, 37469, 37471, 40427, 404...</td>\n",
       "    </tr>\n",
       "    <tr>\n",
       "      <th>4</th>\n",
       "      <td>[35384, 35385, 35386, 42595, 50423, 50424]</td>\n",
       "      <td>[]</td>\n",
       "      <td>[]</td>\n",
       "      <td>[]</td>\n",
       "      <td>[]</td>\n",
       "      <td>[37016, 37017, 37018, 38117, 38118, 38119, 399...</td>\n",
       "    </tr>\n",
       "    <tr>\n",
       "      <th>5</th>\n",
       "      <td>[42764, 42765, 42766, 47197, 53675, 53676, 53677]</td>\n",
       "      <td>[]</td>\n",
       "      <td>[]</td>\n",
       "      <td>[]</td>\n",
       "      <td>[]</td>\n",
       "      <td>[30694, 36476, 36477, 36478, 36844, 37470, 384...</td>\n",
       "    </tr>\n",
       "    <tr>\n",
       "      <th>6</th>\n",
       "      <td>[55301, 55302]</td>\n",
       "      <td>[]</td>\n",
       "      <td>[]</td>\n",
       "      <td>[]</td>\n",
       "      <td>[]</td>\n",
       "      <td>[30692, 30693, 30694, 38414, 38415, 38416, 390...</td>\n",
       "    </tr>\n",
       "    <tr>\n",
       "      <th>7</th>\n",
       "      <td>[41922, 41923, 43610, 43611, 43612]</td>\n",
       "      <td>[]</td>\n",
       "      <td>[]</td>\n",
       "      <td>[]</td>\n",
       "      <td>[]</td>\n",
       "      <td>[30692, 30693, 30694, 32579, 32580, 32581, 364...</td>\n",
       "    </tr>\n",
       "    <tr>\n",
       "      <th>8</th>\n",
       "      <td>[37128, 41121, 41122, 54627]</td>\n",
       "      <td>[]</td>\n",
       "      <td>[]</td>\n",
       "      <td>[]</td>\n",
       "      <td>[]</td>\n",
       "      <td>[32580, 39023, 39025, 40088, 40089, 40090, 547...</td>\n",
       "    </tr>\n",
       "    <tr>\n",
       "      <th>9</th>\n",
       "      <td>[33339, 37620, 41318, 41319, 41320]</td>\n",
       "      <td>[]</td>\n",
       "      <td>[]</td>\n",
       "      <td>[]</td>\n",
       "      <td>[]</td>\n",
       "      <td>[30775, 33674, 33675, 33676, 37121, 37122, 371...</td>\n",
       "    </tr>\n",
       "    <tr>\n",
       "      <th>10</th>\n",
       "      <td>[34520, 38763]</td>\n",
       "      <td>[]</td>\n",
       "      <td>[]</td>\n",
       "      <td>[]</td>\n",
       "      <td>[]</td>\n",
       "      <td>[32392, 33140, 33141, 33142, 33674, 33675, 336...</td>\n",
       "    </tr>\n",
       "  </tbody>\n",
       "</table>\n",
       "</div>"
      ],
      "text/plain": [
       "                                                   S0  S1  S2  S3  S4  \\\n",
       "0                        [56425, 60299, 60300, 60301]  []  []  []  []   \n",
       "1                                                  []  []  []  []  []   \n",
       "2                                                  []  []  []  []  []   \n",
       "3                        [35385, 35386, 48137, 48138]  []  []  []  []   \n",
       "4          [35384, 35385, 35386, 42595, 50423, 50424]  []  []  []  []   \n",
       "5   [42764, 42765, 42766, 47197, 53675, 53676, 53677]  []  []  []  []   \n",
       "6                                      [55301, 55302]  []  []  []  []   \n",
       "7                 [41922, 41923, 43610, 43611, 43612]  []  []  []  []   \n",
       "8                        [37128, 41121, 41122, 54627]  []  []  []  []   \n",
       "9                 [33339, 37620, 41318, 41319, 41320]  []  []  []  []   \n",
       "10                                     [34520, 38763]  []  []  []  []   \n",
       "\n",
       "                                                 SCav  \n",
       "0   [31255, 32579, 32580, 32581, 40145, 40146, 401...  \n",
       "1   [36476, 36477, 39977, 39978, 39979, 41862, 522...  \n",
       "2   [36476, 36477, 36478, 37471, 41862, 47115, 490...  \n",
       "3   [31295, 31296, 31297, 37469, 37471, 40427, 404...  \n",
       "4   [37016, 37017, 37018, 38117, 38118, 38119, 399...  \n",
       "5   [30694, 36476, 36477, 36478, 36844, 37470, 384...  \n",
       "6   [30692, 30693, 30694, 38414, 38415, 38416, 390...  \n",
       "7   [30692, 30693, 30694, 32579, 32580, 32581, 364...  \n",
       "8   [32580, 39023, 39025, 40088, 40089, 40090, 547...  \n",
       "9   [30775, 33674, 33675, 33676, 37121, 37122, 371...  \n",
       "10  [32392, 33140, 33141, 33142, 33674, 33675, 336...  "
      ]
     },
     "execution_count": 12,
     "metadata": {},
     "output_type": "execute_result"
    }
   ],
   "source": [
    "pd.DataFrame(site_occu_wat, columns = [\"S0\", \"S1\", \"S2\", \"S3\", \"S4\", \"SCav\"])"
   ]
  },
  {
   "cell_type": "code",
   "execution_count": null,
   "id": "0c27e327-adb4-49bc-bf0b-0b065f935bd3",
   "metadata": {},
   "outputs": [],
   "source": []
  }
 ],
 "metadata": {
  "kernelspec": {
   "display_name": "py3.11_test",
   "language": "python",
   "name": "py3.11_test"
  },
  "language_info": {
   "codemirror_mode": {
    "name": "ipython",
    "version": 3
   },
   "file_extension": ".py",
   "mimetype": "text/x-python",
   "name": "python",
   "nbconvert_exporter": "python",
   "pygments_lexer": "ipython3",
   "version": "3.11.4"
  }
 },
 "nbformat": 4,
 "nbformat_minor": 5
}
